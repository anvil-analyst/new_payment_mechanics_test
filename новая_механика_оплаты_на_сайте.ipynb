{
 "cells": [
  {
   "cell_type": "markdown",
   "id": "81163cfc",
   "metadata": {},
   "source": [
    "## Общее описание:\n",
    "\n",
    "В ходе проведения эксперимента тестировалась новая механика оплаты услуг на сайте. Целевой группе была предложена новая механика, у контрольной группы оставалась базовая механика. Необходимо проанализировать итоги A/B теста и сделать вывод, стоит ли запускать новую механику оплаты на всех пользователей.\n",
    "\n",
    "### Описание данных\n",
    "\n",
    "В качестве входных данных имеются 4 csv-файла:\n",
    "\n",
    "- groups.csv - файл с информацией о принадлежности пользователя к контрольной или экспериментальной группе (А – контроль, B – целевая группа) \n",
    "- groups_add.csv - дополнительный файл с пользователями, который вам прислали спустя 2 дня после передачи данных\n",
    "- active_studs.csv - файл с информацией о пользователях, которые зашли на платформу в дни проведения эксперимента. \n",
    "- checks.csv - файл с информацией об оплатах пользователей в дни проведения эксперимента. \n",
    "\n",
    "### План\n",
    "\n",
    "1. **Загружаем данные:**\n",
    "    - Напишем функцию для считывания данных\n",
    "    - Загрузим данные\n",
    "    \n",
    "    \n",
    "2. **Посмотрим на данные:**\n",
    "    - Узнаем размер, тип данных\n",
    "    - Выполним проверку на пропущенные значения, на дубликаты\n",
    "\n",
    "\n",
    "3. **Предобработаем данные**\n",
    "    - Выполним необходимые джойны\n",
    "\n",
    "\n",
    "4. **Определяем целевые метрики**\n",
    "    - Выберем метрики для оценки эксперимента\n",
    "    - Посчитаем их\n",
    "\n",
    "\n",
    "5. **Тестируем гипотезы:**\n",
    "     - Выбираем гипотезу\n",
    "     - Выбираем подходящий тест\n",
    "     - Тестируем\n",
    "     \n",
    "     \n",
    "6. **Подводим итоги:**\n",
    "    - Сформулируем выводы\n",
    "    \n",
    "    \n",
    "7. **Автоматизируем рутину**\n",
    "    - Реализуем функцию, которая будет автоматически подгружать информацию из дополнительного файла groups_add.csv (заголовки могут отличаться) и на основании дополнительных параметров пересчитывать метрики.\n",
    "    - Реализуем функцию, которая будет строить графики по получаемым метрикам."
   ]
  },
  {
   "cell_type": "markdown",
   "id": "9ae65c81",
   "metadata": {},
   "source": [
    "## 1: загружаем данные"
   ]
  },
  {
   "cell_type": "code",
   "execution_count": 1,
   "id": "01969ed9",
   "metadata": {},
   "outputs": [],
   "source": [
    "# импортируем библиотеки\n",
    "import numpy as np\n",
    "import pandas as pd\n",
    "import scipy.stats as ss\n",
    "\n",
    "import requests\n",
    "from urllib.parse import urlencode\n",
    "from tqdm.auto import tqdm\n",
    "\n",
    "import seaborn as sns\n",
    "import matplotlib.pyplot as plt\n",
    "\n",
    "%matplotlib inline "
   ]
  },
  {
   "cell_type": "code",
   "execution_count": 2,
   "id": "21881ada",
   "metadata": {},
   "outputs": [],
   "source": [
    "# объявим функцию для считывания данных с Яндекс.Диска\n",
    "def get_data(public_key, sep=';'):\n",
    "    base_url = 'https://cloud-api.yandex.net/v1/disk/public/resources/download?'\n",
    "    \n",
    "    # Получаем загрузочную ссылку\n",
    "    final_url = base_url + urlencode(dict(public_key=public_key))\n",
    "    response = requests.get(final_url)\n",
    "    download_url = response.json()['href']\n",
    "    \n",
    "    # Загружаем файл и сохраняем его\n",
    "    df = pd.read_csv(download_url, sep=sep, error_bad_lines=False, comment='#')\n",
    "    \n",
    "    return df"
   ]
  },
  {
   "cell_type": "code",
   "execution_count": 3,
   "id": "b3556225",
   "metadata": {},
   "outputs": [],
   "source": [
    "# ссылки на файлы на Яндекс.Диске\n",
    "groups_public_key = 'https://disk.yandex.ru/d/58Us0DWOzuWAjg'\n",
    "group_add_public_key = 'https://disk.yandex.ru/d/3aARY-P9pfaksg'\n",
    "active_studs_public_key = 'https://disk.yandex.ru/d/prbgU-rZpiXVYg'\n",
    "checks_public_key = 'https://disk.yandex.ru/d/84hTmELphW2sqQ'"
   ]
  },
  {
   "cell_type": "code",
   "execution_count": 4,
   "id": "2efcb182",
   "metadata": {},
   "outputs": [],
   "source": [
    "# считываем данные\n",
    "groups = get_data(groups_public_key)\n",
    "group_add = get_data(group_add_public_key, sep=',')\n",
    "active_studs = get_data(active_studs_public_key)\n",
    "checks = get_data(checks_public_key)"
   ]
  },
  {
   "cell_type": "markdown",
   "id": "9f922857",
   "metadata": {},
   "source": [
    "## 2: смотрим на данные \n",
    "Размер датафреймов, тип данных, пропущенные значения"
   ]
  },
  {
   "cell_type": "code",
   "execution_count": 5,
   "id": "9c59da50",
   "metadata": {},
   "outputs": [],
   "source": [
    "# объявим функцию для проверки наших данных\n",
    "def check_data(df):\n",
    "    '''Принимает датафрейм, выводит информацию о количестве строк и столбцов в нем, типы данных, \n",
    "    количество пропущенных значений, а также имена колонок, в которых встречаются повторяющиеся значения'''\n",
    "    \n",
    "    rows = df.shape[0]\n",
    "    columns = df.shape[1]\n",
    "    \n",
    "    print(f'Количество строк: {rows}', f'Количество столбцов: {columns}', sep='\\n', end='\\n\\n')\n",
    "    print('Типы данных:', df.dtypes, sep='\\n', end='\\n\\n')\n",
    "    print('Пропущенные значения:', df.isna().sum(), sep='\\n', end='\\n\\n')\n",
    "    \n",
    "    cols_with_duplicates = []\n",
    "    cols = df.columns\n",
    "    for i in range(columns):\n",
    "        if df.iloc[:, i].nunique() == rows:\n",
    "            continue\n",
    "        else:\n",
    "            cols_with_duplicates.append(cols[i])\n",
    "    print(f'Колонки, в которых встречаются повторяющиеся значения: {cols_with_duplicates}')\n",
    "    \n",
    "    return df.head()"
   ]
  },
  {
   "cell_type": "code",
   "execution_count": 6,
   "id": "45c3069f",
   "metadata": {},
   "outputs": [
    {
     "name": "stdout",
     "output_type": "stream",
     "text": [
      "Количество строк: 74484\n",
      "Количество столбцов: 2\n",
      "\n",
      "Типы данных:\n",
      "id      int64\n",
      "grp    object\n",
      "dtype: object\n",
      "\n",
      "Пропущенные значения:\n",
      "id     0\n",
      "grp    0\n",
      "dtype: int64\n",
      "\n",
      "Колонки, в которых встречаются повторяющиеся значения: ['grp']\n"
     ]
    },
    {
     "data": {
      "text/html": [
       "<div>\n",
       "<style scoped>\n",
       "    .dataframe tbody tr th:only-of-type {\n",
       "        vertical-align: middle;\n",
       "    }\n",
       "\n",
       "    .dataframe tbody tr th {\n",
       "        vertical-align: top;\n",
       "    }\n",
       "\n",
       "    .dataframe thead th {\n",
       "        text-align: right;\n",
       "    }\n",
       "</style>\n",
       "<table border=\"1\" class=\"dataframe\">\n",
       "  <thead>\n",
       "    <tr style=\"text-align: right;\">\n",
       "      <th></th>\n",
       "      <th>id</th>\n",
       "      <th>grp</th>\n",
       "    </tr>\n",
       "  </thead>\n",
       "  <tbody>\n",
       "    <tr>\n",
       "      <th>0</th>\n",
       "      <td>1489</td>\n",
       "      <td>B</td>\n",
       "    </tr>\n",
       "    <tr>\n",
       "      <th>1</th>\n",
       "      <td>1627</td>\n",
       "      <td>A</td>\n",
       "    </tr>\n",
       "    <tr>\n",
       "      <th>2</th>\n",
       "      <td>1768</td>\n",
       "      <td>B</td>\n",
       "    </tr>\n",
       "    <tr>\n",
       "      <th>3</th>\n",
       "      <td>1783</td>\n",
       "      <td>B</td>\n",
       "    </tr>\n",
       "    <tr>\n",
       "      <th>4</th>\n",
       "      <td>1794</td>\n",
       "      <td>A</td>\n",
       "    </tr>\n",
       "  </tbody>\n",
       "</table>\n",
       "</div>"
      ],
      "text/plain": [
       "     id grp\n",
       "0  1489   B\n",
       "1  1627   A\n",
       "2  1768   B\n",
       "3  1783   B\n",
       "4  1794   A"
      ]
     },
     "execution_count": 6,
     "metadata": {},
     "output_type": "execute_result"
    }
   ],
   "source": [
    "check_data(groups)"
   ]
  },
  {
   "cell_type": "code",
   "execution_count": 7,
   "id": "7118cb04",
   "metadata": {},
   "outputs": [
    {
     "name": "stdout",
     "output_type": "stream",
     "text": [
      "Количество строк: 92\n",
      "Количество столбцов: 2\n",
      "\n",
      "Типы данных:\n",
      "id      int64\n",
      "grp    object\n",
      "dtype: object\n",
      "\n",
      "Пропущенные значения:\n",
      "id     0\n",
      "grp    0\n",
      "dtype: int64\n",
      "\n",
      "Колонки, в которых встречаются повторяющиеся значения: ['grp']\n"
     ]
    },
    {
     "data": {
      "text/html": [
       "<div>\n",
       "<style scoped>\n",
       "    .dataframe tbody tr th:only-of-type {\n",
       "        vertical-align: middle;\n",
       "    }\n",
       "\n",
       "    .dataframe tbody tr th {\n",
       "        vertical-align: top;\n",
       "    }\n",
       "\n",
       "    .dataframe thead th {\n",
       "        text-align: right;\n",
       "    }\n",
       "</style>\n",
       "<table border=\"1\" class=\"dataframe\">\n",
       "  <thead>\n",
       "    <tr style=\"text-align: right;\">\n",
       "      <th></th>\n",
       "      <th>id</th>\n",
       "      <th>grp</th>\n",
       "    </tr>\n",
       "  </thead>\n",
       "  <tbody>\n",
       "    <tr>\n",
       "      <th>0</th>\n",
       "      <td>5694584</td>\n",
       "      <td>B</td>\n",
       "    </tr>\n",
       "    <tr>\n",
       "      <th>1</th>\n",
       "      <td>5694830</td>\n",
       "      <td>B</td>\n",
       "    </tr>\n",
       "    <tr>\n",
       "      <th>2</th>\n",
       "      <td>5695057</td>\n",
       "      <td>B</td>\n",
       "    </tr>\n",
       "    <tr>\n",
       "      <th>3</th>\n",
       "      <td>5698872</td>\n",
       "      <td>B</td>\n",
       "    </tr>\n",
       "    <tr>\n",
       "      <th>4</th>\n",
       "      <td>5699067</td>\n",
       "      <td>B</td>\n",
       "    </tr>\n",
       "  </tbody>\n",
       "</table>\n",
       "</div>"
      ],
      "text/plain": [
       "        id grp\n",
       "0  5694584   B\n",
       "1  5694830   B\n",
       "2  5695057   B\n",
       "3  5698872   B\n",
       "4  5699067   B"
      ]
     },
     "execution_count": 7,
     "metadata": {},
     "output_type": "execute_result"
    }
   ],
   "source": [
    "check_data(group_add)"
   ]
  },
  {
   "cell_type": "code",
   "execution_count": 8,
   "id": "058de73f",
   "metadata": {},
   "outputs": [
    {
     "name": "stdout",
     "output_type": "stream",
     "text": [
      "Количество строк: 8341\n",
      "Количество столбцов: 1\n",
      "\n",
      "Типы данных:\n",
      "student_id    int64\n",
      "dtype: object\n",
      "\n",
      "Пропущенные значения:\n",
      "student_id    0\n",
      "dtype: int64\n",
      "\n",
      "Колонки, в которых встречаются повторяющиеся значения: []\n"
     ]
    },
    {
     "data": {
      "text/html": [
       "<div>\n",
       "<style scoped>\n",
       "    .dataframe tbody tr th:only-of-type {\n",
       "        vertical-align: middle;\n",
       "    }\n",
       "\n",
       "    .dataframe tbody tr th {\n",
       "        vertical-align: top;\n",
       "    }\n",
       "\n",
       "    .dataframe thead th {\n",
       "        text-align: right;\n",
       "    }\n",
       "</style>\n",
       "<table border=\"1\" class=\"dataframe\">\n",
       "  <thead>\n",
       "    <tr style=\"text-align: right;\">\n",
       "      <th></th>\n",
       "      <th>student_id</th>\n",
       "    </tr>\n",
       "  </thead>\n",
       "  <tbody>\n",
       "    <tr>\n",
       "      <th>0</th>\n",
       "      <td>581585</td>\n",
       "    </tr>\n",
       "    <tr>\n",
       "      <th>1</th>\n",
       "      <td>5723133</td>\n",
       "    </tr>\n",
       "    <tr>\n",
       "      <th>2</th>\n",
       "      <td>3276743</td>\n",
       "    </tr>\n",
       "    <tr>\n",
       "      <th>3</th>\n",
       "      <td>4238589</td>\n",
       "    </tr>\n",
       "    <tr>\n",
       "      <th>4</th>\n",
       "      <td>4475369</td>\n",
       "    </tr>\n",
       "  </tbody>\n",
       "</table>\n",
       "</div>"
      ],
      "text/plain": [
       "   student_id\n",
       "0      581585\n",
       "1     5723133\n",
       "2     3276743\n",
       "3     4238589\n",
       "4     4475369"
      ]
     },
     "execution_count": 8,
     "metadata": {},
     "output_type": "execute_result"
    }
   ],
   "source": [
    "check_data(active_studs)"
   ]
  },
  {
   "cell_type": "code",
   "execution_count": 9,
   "id": "fa404ddb",
   "metadata": {},
   "outputs": [
    {
     "name": "stdout",
     "output_type": "stream",
     "text": [
      "Количество строк: 541\n",
      "Количество столбцов: 2\n",
      "\n",
      "Типы данных:\n",
      "student_id      int64\n",
      "rev           float64\n",
      "dtype: object\n",
      "\n",
      "Пропущенные значения:\n",
      "student_id    0\n",
      "rev           0\n",
      "dtype: int64\n",
      "\n",
      "Колонки, в которых встречаются повторяющиеся значения: ['rev']\n"
     ]
    },
    {
     "data": {
      "text/html": [
       "<div>\n",
       "<style scoped>\n",
       "    .dataframe tbody tr th:only-of-type {\n",
       "        vertical-align: middle;\n",
       "    }\n",
       "\n",
       "    .dataframe tbody tr th {\n",
       "        vertical-align: top;\n",
       "    }\n",
       "\n",
       "    .dataframe thead th {\n",
       "        text-align: right;\n",
       "    }\n",
       "</style>\n",
       "<table border=\"1\" class=\"dataframe\">\n",
       "  <thead>\n",
       "    <tr style=\"text-align: right;\">\n",
       "      <th></th>\n",
       "      <th>student_id</th>\n",
       "      <th>rev</th>\n",
       "    </tr>\n",
       "  </thead>\n",
       "  <tbody>\n",
       "    <tr>\n",
       "      <th>0</th>\n",
       "      <td>1627</td>\n",
       "      <td>990.0</td>\n",
       "    </tr>\n",
       "    <tr>\n",
       "      <th>1</th>\n",
       "      <td>3185</td>\n",
       "      <td>690.0</td>\n",
       "    </tr>\n",
       "    <tr>\n",
       "      <th>2</th>\n",
       "      <td>25973</td>\n",
       "      <td>690.0</td>\n",
       "    </tr>\n",
       "    <tr>\n",
       "      <th>3</th>\n",
       "      <td>26280</td>\n",
       "      <td>690.0</td>\n",
       "    </tr>\n",
       "    <tr>\n",
       "      <th>4</th>\n",
       "      <td>100300</td>\n",
       "      <td>990.0</td>\n",
       "    </tr>\n",
       "  </tbody>\n",
       "</table>\n",
       "</div>"
      ],
      "text/plain": [
       "   student_id    rev\n",
       "0        1627  990.0\n",
       "1        3185  690.0\n",
       "2       25973  690.0\n",
       "3       26280  690.0\n",
       "4      100300  990.0"
      ]
     },
     "execution_count": 9,
     "metadata": {},
     "output_type": "execute_result"
    }
   ],
   "source": [
    "check_data(checks)"
   ]
  },
  {
   "cell_type": "code",
   "execution_count": 10,
   "id": "191cfe63",
   "metadata": {},
   "outputs": [
    {
     "data": {
      "text/html": [
       "<div>\n",
       "<style scoped>\n",
       "    .dataframe tbody tr th:only-of-type {\n",
       "        vertical-align: middle;\n",
       "    }\n",
       "\n",
       "    .dataframe tbody tr th {\n",
       "        vertical-align: top;\n",
       "    }\n",
       "\n",
       "    .dataframe thead th {\n",
       "        text-align: right;\n",
       "    }\n",
       "</style>\n",
       "<table border=\"1\" class=\"dataframe\">\n",
       "  <thead>\n",
       "    <tr style=\"text-align: right;\">\n",
       "      <th></th>\n",
       "      <th>student_id</th>\n",
       "      <th>rev</th>\n",
       "    </tr>\n",
       "  </thead>\n",
       "  <tbody>\n",
       "    <tr>\n",
       "      <th>count</th>\n",
       "      <td>5.410000e+02</td>\n",
       "      <td>541.000000</td>\n",
       "    </tr>\n",
       "    <tr>\n",
       "      <th>mean</th>\n",
       "      <td>2.514772e+06</td>\n",
       "      <td>1059.752317</td>\n",
       "    </tr>\n",
       "    <tr>\n",
       "      <th>std</th>\n",
       "      <td>1.726839e+06</td>\n",
       "      <td>762.712359</td>\n",
       "    </tr>\n",
       "    <tr>\n",
       "      <th>min</th>\n",
       "      <td>1.627000e+03</td>\n",
       "      <td>199.000000</td>\n",
       "    </tr>\n",
       "    <tr>\n",
       "      <th>25%</th>\n",
       "      <td>9.871290e+05</td>\n",
       "      <td>290.000000</td>\n",
       "    </tr>\n",
       "    <tr>\n",
       "      <th>50%</th>\n",
       "      <td>2.526021e+06</td>\n",
       "      <td>840.000000</td>\n",
       "    </tr>\n",
       "    <tr>\n",
       "      <th>75%</th>\n",
       "      <td>3.993249e+06</td>\n",
       "      <td>1900.000000</td>\n",
       "    </tr>\n",
       "    <tr>\n",
       "      <th>max</th>\n",
       "      <td>5.740903e+06</td>\n",
       "      <td>4650.000000</td>\n",
       "    </tr>\n",
       "  </tbody>\n",
       "</table>\n",
       "</div>"
      ],
      "text/plain": [
       "         student_id          rev\n",
       "count  5.410000e+02   541.000000\n",
       "mean   2.514772e+06  1059.752317\n",
       "std    1.726839e+06   762.712359\n",
       "min    1.627000e+03   199.000000\n",
       "25%    9.871290e+05   290.000000\n",
       "50%    2.526021e+06   840.000000\n",
       "75%    3.993249e+06  1900.000000\n",
       "max    5.740903e+06  4650.000000"
      ]
     },
     "execution_count": 10,
     "metadata": {},
     "output_type": "execute_result"
    }
   ],
   "source": [
    "checks.describe()"
   ]
  },
  {
   "cell_type": "code",
   "execution_count": 11,
   "id": "e1994595",
   "metadata": {},
   "outputs": [
    {
     "data": {
      "text/plain": [
       "573326.0035999999"
      ]
     },
     "execution_count": 11,
     "metadata": {},
     "output_type": "execute_result"
    }
   ],
   "source": [
    "checks.rev.sum()"
   ]
  },
  {
   "cell_type": "markdown",
   "id": "47dcb612",
   "metadata": {},
   "source": [
    "## 3: препроцессинг данных"
   ]
  },
  {
   "cell_type": "code",
   "execution_count": 12,
   "id": "c3ccb16f",
   "metadata": {},
   "outputs": [],
   "source": [
    "# переименуем колонки с id пользователей идентично для всех файлов\n",
    "active_studs.rename(columns={'student_id': 'id'}, inplace=True)\n",
    "checks.rename(columns={'student_id': 'id'}, inplace=True)"
   ]
  },
  {
   "cell_type": "code",
   "execution_count": 13,
   "id": "2a94c2fa",
   "metadata": {},
   "outputs": [],
   "source": [
    "# объединяем ДФ с информацией о принадлежности пользователя к той или иной группе\n",
    "groups_full = pd.concat([groups, group_add], axis=0)"
   ]
  },
  {
   "cell_type": "code",
   "execution_count": 14,
   "id": "d2a91059",
   "metadata": {},
   "outputs": [
    {
     "data": {
      "text/plain": [
       "True"
      ]
     },
     "execution_count": 14,
     "metadata": {},
     "output_type": "execute_result"
    }
   ],
   "source": [
    "groups_full.id.nunique() == groups_full.shape[0]\n",
    "# после объединения ДФ дубликатов нет"
   ]
  },
  {
   "cell_type": "code",
   "execution_count": 15,
   "id": "b21658d4",
   "metadata": {},
   "outputs": [],
   "source": [
    "# формируем итоговый ДФ с результатами эксперимента\n",
    "# для анализа оставляем только тех польз-лей, которые заходили на платфоруму в дни эксперимента (active_studs)\n",
    "exp_results = active_studs \\\n",
    "    .merge(checks, how='left', on='id') \\\n",
    "    .merge(groups_full, how='inner', on='id')"
   ]
  },
  {
   "cell_type": "code",
   "execution_count": 16,
   "id": "7a22ed47",
   "metadata": {},
   "outputs": [
    {
     "data": {
      "text/plain": [
       "8341"
      ]
     },
     "execution_count": 16,
     "metadata": {},
     "output_type": "execute_result"
    }
   ],
   "source": [
    "# проверили, что итоговый ДФ содержит всех польз-лей, заходивших на платформу в дни эксперимента\n",
    "exp_results.id.nunique()"
   ]
  },
  {
   "cell_type": "code",
   "execution_count": 17,
   "id": "84953dcb",
   "metadata": {},
   "outputs": [
    {
     "data": {
      "text/plain": [
       "467794.00350000005"
      ]
     },
     "execution_count": 17,
     "metadata": {},
     "output_type": "execute_result"
    }
   ],
   "source": [
    "exp_results.rev.sum()\n",
    "# сумма выручки не сходится с файлом checks"
   ]
  },
  {
   "cell_type": "code",
   "execution_count": 18,
   "id": "0aee83c8",
   "metadata": {},
   "outputs": [],
   "source": [
    "# проверим, какие польз-ли есть в checks, но нет в active_studs. Создадим столбец active и присвоим лейбл \"yes\"\n",
    "active_studs['active'] = 'yes'"
   ]
  },
  {
   "cell_type": "code",
   "execution_count": 19,
   "id": "999ac7b8",
   "metadata": {},
   "outputs": [
    {
     "data": {
      "text/html": [
       "<div>\n",
       "<style scoped>\n",
       "    .dataframe tbody tr th:only-of-type {\n",
       "        vertical-align: middle;\n",
       "    }\n",
       "\n",
       "    .dataframe tbody tr th {\n",
       "        vertical-align: top;\n",
       "    }\n",
       "\n",
       "    .dataframe thead th {\n",
       "        text-align: right;\n",
       "    }\n",
       "</style>\n",
       "<table border=\"1\" class=\"dataframe\">\n",
       "  <thead>\n",
       "    <tr style=\"text-align: right;\">\n",
       "      <th></th>\n",
       "      <th>id</th>\n",
       "      <th>rev</th>\n",
       "      <th>active</th>\n",
       "    </tr>\n",
       "  </thead>\n",
       "  <tbody>\n",
       "    <tr>\n",
       "      <th>1</th>\n",
       "      <td>3185</td>\n",
       "      <td>690.0</td>\n",
       "      <td>NaN</td>\n",
       "    </tr>\n",
       "    <tr>\n",
       "      <th>2</th>\n",
       "      <td>25973</td>\n",
       "      <td>690.0</td>\n",
       "      <td>NaN</td>\n",
       "    </tr>\n",
       "    <tr>\n",
       "      <th>3</th>\n",
       "      <td>26280</td>\n",
       "      <td>690.0</td>\n",
       "      <td>NaN</td>\n",
       "    </tr>\n",
       "    <tr>\n",
       "      <th>5</th>\n",
       "      <td>100645</td>\n",
       "      <td>630.0</td>\n",
       "      <td>NaN</td>\n",
       "    </tr>\n",
       "    <tr>\n",
       "      <th>6</th>\n",
       "      <td>102534</td>\n",
       "      <td>580.0</td>\n",
       "      <td>NaN</td>\n",
       "    </tr>\n",
       "    <tr>\n",
       "      <th>...</th>\n",
       "      <td>...</td>\n",
       "      <td>...</td>\n",
       "      <td>...</td>\n",
       "    </tr>\n",
       "    <tr>\n",
       "      <th>508</th>\n",
       "      <td>5291900</td>\n",
       "      <td>199.0</td>\n",
       "      <td>NaN</td>\n",
       "    </tr>\n",
       "    <tr>\n",
       "      <th>512</th>\n",
       "      <td>5331842</td>\n",
       "      <td>290.0</td>\n",
       "      <td>NaN</td>\n",
       "    </tr>\n",
       "    <tr>\n",
       "      <th>521</th>\n",
       "      <td>5486319</td>\n",
       "      <td>199.0</td>\n",
       "      <td>NaN</td>\n",
       "    </tr>\n",
       "    <tr>\n",
       "      <th>530</th>\n",
       "      <td>5562806</td>\n",
       "      <td>398.0</td>\n",
       "      <td>NaN</td>\n",
       "    </tr>\n",
       "    <tr>\n",
       "      <th>534</th>\n",
       "      <td>5599663</td>\n",
       "      <td>1900.0</td>\n",
       "      <td>NaN</td>\n",
       "    </tr>\n",
       "  </tbody>\n",
       "</table>\n",
       "<p>149 rows × 3 columns</p>\n",
       "</div>"
      ],
      "text/plain": [
       "          id     rev active\n",
       "1       3185   690.0    NaN\n",
       "2      25973   690.0    NaN\n",
       "3      26280   690.0    NaN\n",
       "5     100645   630.0    NaN\n",
       "6     102534   580.0    NaN\n",
       "..       ...     ...    ...\n",
       "508  5291900   199.0    NaN\n",
       "512  5331842   290.0    NaN\n",
       "521  5486319   199.0    NaN\n",
       "530  5562806   398.0    NaN\n",
       "534  5599663  1900.0    NaN\n",
       "\n",
       "[149 rows x 3 columns]"
      ]
     },
     "execution_count": 19,
     "metadata": {},
     "output_type": "execute_result"
    }
   ],
   "source": [
    "checks.merge(active_studs, how='left', on='id').query('active != \"yes\"')\n",
    "# странно, но есть 149 польз-лей, которые не заходили на платформу, но у которых есть покупки\n",
    "# возможно, при сборе данных или логировании польз-лей была допущена ошибка\n",
    "# поскольку это 1,7% от общего объема выборки (8341), мы не будем включать их в анализ "
   ]
  },
  {
   "cell_type": "code",
   "execution_count": 20,
   "id": "26278ea2",
   "metadata": {},
   "outputs": [
    {
     "data": {
      "text/html": [
       "<div>\n",
       "<style scoped>\n",
       "    .dataframe tbody tr th:only-of-type {\n",
       "        vertical-align: middle;\n",
       "    }\n",
       "\n",
       "    .dataframe tbody tr th {\n",
       "        vertical-align: top;\n",
       "    }\n",
       "\n",
       "    .dataframe thead th {\n",
       "        text-align: right;\n",
       "    }\n",
       "</style>\n",
       "<table border=\"1\" class=\"dataframe\">\n",
       "  <thead>\n",
       "    <tr style=\"text-align: right;\">\n",
       "      <th></th>\n",
       "      <th>id</th>\n",
       "      <th>rev</th>\n",
       "      <th>grp</th>\n",
       "    </tr>\n",
       "  </thead>\n",
       "  <tbody>\n",
       "    <tr>\n",
       "      <th>0</th>\n",
       "      <td>581585</td>\n",
       "      <td>NaN</td>\n",
       "      <td>A</td>\n",
       "    </tr>\n",
       "    <tr>\n",
       "      <th>1</th>\n",
       "      <td>5723133</td>\n",
       "      <td>NaN</td>\n",
       "      <td>A</td>\n",
       "    </tr>\n",
       "    <tr>\n",
       "      <th>2</th>\n",
       "      <td>3276743</td>\n",
       "      <td>NaN</td>\n",
       "      <td>B</td>\n",
       "    </tr>\n",
       "    <tr>\n",
       "      <th>3</th>\n",
       "      <td>4238589</td>\n",
       "      <td>NaN</td>\n",
       "      <td>A</td>\n",
       "    </tr>\n",
       "    <tr>\n",
       "      <th>4</th>\n",
       "      <td>4475369</td>\n",
       "      <td>NaN</td>\n",
       "      <td>B</td>\n",
       "    </tr>\n",
       "  </tbody>\n",
       "</table>\n",
       "</div>"
      ],
      "text/plain": [
       "        id  rev grp\n",
       "0   581585  NaN   A\n",
       "1  5723133  NaN   A\n",
       "2  3276743  NaN   B\n",
       "3  4238589  NaN   A\n",
       "4  4475369  NaN   B"
      ]
     },
     "execution_count": 20,
     "metadata": {},
     "output_type": "execute_result"
    }
   ],
   "source": [
    "exp_results.head()"
   ]
  },
  {
   "cell_type": "markdown",
   "id": "bab15258",
   "metadata": {},
   "source": [
    "## 4: метрики"
   ]
  },
  {
   "cell_type": "code",
   "execution_count": 21,
   "id": "672b01ee",
   "metadata": {},
   "outputs": [
    {
     "data": {
      "text/plain": [
       "B    6803\n",
       "A    1538\n",
       "Name: grp, dtype: int64"
      ]
     },
     "execution_count": 21,
     "metadata": {},
     "output_type": "execute_result"
    }
   ],
   "source": [
    "# посмотрим на размеры групп\n",
    "exp_results.grp.value_counts()"
   ]
  },
  {
   "cell_type": "code",
   "execution_count": 22,
   "id": "b6b79fcd",
   "metadata": {},
   "outputs": [
    {
     "data": {
      "text/html": [
       "<div>\n",
       "<style scoped>\n",
       "    .dataframe tbody tr th:only-of-type {\n",
       "        vertical-align: middle;\n",
       "    }\n",
       "\n",
       "    .dataframe tbody tr th {\n",
       "        vertical-align: top;\n",
       "    }\n",
       "\n",
       "    .dataframe thead th {\n",
       "        text-align: right;\n",
       "    }\n",
       "</style>\n",
       "<table border=\"1\" class=\"dataframe\">\n",
       "  <thead>\n",
       "    <tr style=\"text-align: right;\">\n",
       "      <th></th>\n",
       "      <th>grp</th>\n",
       "      <th>rev</th>\n",
       "    </tr>\n",
       "  </thead>\n",
       "  <tbody>\n",
       "    <tr>\n",
       "      <th>0</th>\n",
       "      <td>A</td>\n",
       "      <td>72820.0000</td>\n",
       "    </tr>\n",
       "    <tr>\n",
       "      <th>1</th>\n",
       "      <td>B</td>\n",
       "      <td>394974.0035</td>\n",
       "    </tr>\n",
       "  </tbody>\n",
       "</table>\n",
       "</div>"
      ],
      "text/plain": [
       "  grp          rev\n",
       "0   A   72820.0000\n",
       "1   B  394974.0035"
      ]
     },
     "execution_count": 22,
     "metadata": {},
     "output_type": "execute_result"
    }
   ],
   "source": [
    "# исходя из имеющихся данных, в качестве целевых метрик используем ср.чек и конверсию в покупку\n",
    "# посчитаем их отдельно для каждой группы\n",
    "metrics = exp_results \\\n",
    "    .groupby('grp', as_index=False) \\\n",
    "    .agg({'rev': 'sum'})\n",
    "metrics"
   ]
  },
  {
   "cell_type": "code",
   "execution_count": 23,
   "id": "5f842226",
   "metadata": {},
   "outputs": [
    {
     "data": {
      "text/html": [
       "<div>\n",
       "<style scoped>\n",
       "    .dataframe tbody tr th:only-of-type {\n",
       "        vertical-align: middle;\n",
       "    }\n",
       "\n",
       "    .dataframe tbody tr th {\n",
       "        vertical-align: top;\n",
       "    }\n",
       "\n",
       "    .dataframe thead th {\n",
       "        text-align: right;\n",
       "    }\n",
       "</style>\n",
       "<table border=\"1\" class=\"dataframe\">\n",
       "  <thead>\n",
       "    <tr style=\"text-align: right;\">\n",
       "      <th></th>\n",
       "      <th>grp</th>\n",
       "      <th>clients</th>\n",
       "    </tr>\n",
       "  </thead>\n",
       "  <tbody>\n",
       "    <tr>\n",
       "      <th>0</th>\n",
       "      <td>A</td>\n",
       "      <td>78</td>\n",
       "    </tr>\n",
       "    <tr>\n",
       "      <th>1</th>\n",
       "      <td>B</td>\n",
       "      <td>314</td>\n",
       "    </tr>\n",
       "  </tbody>\n",
       "</table>\n",
       "</div>"
      ],
      "text/plain": [
       "  grp  clients\n",
       "0   A       78\n",
       "1   B      314"
      ]
     },
     "execution_count": 23,
     "metadata": {},
     "output_type": "execute_result"
    }
   ],
   "source": [
    "# кол-во покупателей по группам\n",
    "clients = exp_results \\\n",
    "    .query('rev > 0') \\\n",
    "    .groupby('grp', as_index=False) \\\n",
    "    .agg({'id': 'count'}) \\\n",
    "    .rename(columns={'id': 'clients'})\n",
    "clients"
   ]
  },
  {
   "cell_type": "code",
   "execution_count": 24,
   "id": "4deb4ff2",
   "metadata": {},
   "outputs": [
    {
     "data": {
      "text/html": [
       "<div>\n",
       "<style scoped>\n",
       "    .dataframe tbody tr th:only-of-type {\n",
       "        vertical-align: middle;\n",
       "    }\n",
       "\n",
       "    .dataframe tbody tr th {\n",
       "        vertical-align: top;\n",
       "    }\n",
       "\n",
       "    .dataframe thead th {\n",
       "        text-align: right;\n",
       "    }\n",
       "</style>\n",
       "<table border=\"1\" class=\"dataframe\">\n",
       "  <thead>\n",
       "    <tr style=\"text-align: right;\">\n",
       "      <th></th>\n",
       "      <th>grp</th>\n",
       "      <th>users</th>\n",
       "    </tr>\n",
       "  </thead>\n",
       "  <tbody>\n",
       "    <tr>\n",
       "      <th>0</th>\n",
       "      <td>A</td>\n",
       "      <td>1538</td>\n",
       "    </tr>\n",
       "    <tr>\n",
       "      <th>1</th>\n",
       "      <td>B</td>\n",
       "      <td>6803</td>\n",
       "    </tr>\n",
       "  </tbody>\n",
       "</table>\n",
       "</div>"
      ],
      "text/plain": [
       "  grp  users\n",
       "0   A   1538\n",
       "1   B   6803"
      ]
     },
     "execution_count": 24,
     "metadata": {},
     "output_type": "execute_result"
    }
   ],
   "source": [
    "# кол-во польз-лей по группам\n",
    "users = exp_results \\\n",
    "    .groupby('grp', as_index=False) \\\n",
    "    .agg({'id': 'count'}) \\\n",
    "    .rename(columns={'id': 'users'})\n",
    "users"
   ]
  },
  {
   "cell_type": "code",
   "execution_count": 25,
   "id": "6e7b4379",
   "metadata": {},
   "outputs": [],
   "source": [
    "metrics = metrics.merge(clients).merge(users)"
   ]
  },
  {
   "cell_type": "code",
   "execution_count": 26,
   "id": "6304d5cb",
   "metadata": {},
   "outputs": [],
   "source": [
    "# считаем конверсию в покупку по группам\n",
    "metrics['cr'] = metrics.clients / metrics.users"
   ]
  },
  {
   "cell_type": "code",
   "execution_count": 27,
   "id": "72ea32b8",
   "metadata": {},
   "outputs": [],
   "source": [
    "# считаем ср.чек по группам\n",
    "metrics['avg_check'] = metrics.rev / metrics.clients"
   ]
  },
  {
   "cell_type": "code",
   "execution_count": 28,
   "id": "efdcd4f9",
   "metadata": {},
   "outputs": [
    {
     "data": {
      "text/html": [
       "<div>\n",
       "<style scoped>\n",
       "    .dataframe tbody tr th:only-of-type {\n",
       "        vertical-align: middle;\n",
       "    }\n",
       "\n",
       "    .dataframe tbody tr th {\n",
       "        vertical-align: top;\n",
       "    }\n",
       "\n",
       "    .dataframe thead th {\n",
       "        text-align: right;\n",
       "    }\n",
       "</style>\n",
       "<table border=\"1\" class=\"dataframe\">\n",
       "  <thead>\n",
       "    <tr style=\"text-align: right;\">\n",
       "      <th></th>\n",
       "      <th>grp</th>\n",
       "      <th>rev</th>\n",
       "      <th>clients</th>\n",
       "      <th>users</th>\n",
       "      <th>cr</th>\n",
       "      <th>avg_check</th>\n",
       "    </tr>\n",
       "  </thead>\n",
       "  <tbody>\n",
       "    <tr>\n",
       "      <th>0</th>\n",
       "      <td>A</td>\n",
       "      <td>72820.0000</td>\n",
       "      <td>78</td>\n",
       "      <td>1538</td>\n",
       "      <td>0.050715</td>\n",
       "      <td>933.589744</td>\n",
       "    </tr>\n",
       "    <tr>\n",
       "      <th>1</th>\n",
       "      <td>B</td>\n",
       "      <td>394974.0035</td>\n",
       "      <td>314</td>\n",
       "      <td>6803</td>\n",
       "      <td>0.046156</td>\n",
       "      <td>1257.878992</td>\n",
       "    </tr>\n",
       "  </tbody>\n",
       "</table>\n",
       "</div>"
      ],
      "text/plain": [
       "  grp          rev  clients  users        cr    avg_check\n",
       "0   A   72820.0000       78   1538  0.050715   933.589744\n",
       "1   B  394974.0035      314   6803  0.046156  1257.878992"
      ]
     },
     "execution_count": 28,
     "metadata": {},
     "output_type": "execute_result"
    }
   ],
   "source": [
    "metrics\n",
    "# конверсия в покупку выше у польз-лей из группы А, а ср.чек выше у польз-лей из группы В"
   ]
  },
  {
   "cell_type": "code",
   "execution_count": 29,
   "id": "e6d9231f",
   "metadata": {},
   "outputs": [],
   "source": [
    "# чтобы понять, в какой группе мы все-таки зарабатываем больше с каждого польз-ля, посчитаем ARPU\n",
    "metrics['arpu'] = metrics.rev / metrics.users"
   ]
  },
  {
   "cell_type": "code",
   "execution_count": 30,
   "id": "2bbd0bea",
   "metadata": {},
   "outputs": [
    {
     "data": {
      "text/html": [
       "<div>\n",
       "<style scoped>\n",
       "    .dataframe tbody tr th:only-of-type {\n",
       "        vertical-align: middle;\n",
       "    }\n",
       "\n",
       "    .dataframe tbody tr th {\n",
       "        vertical-align: top;\n",
       "    }\n",
       "\n",
       "    .dataframe thead th {\n",
       "        text-align: right;\n",
       "    }\n",
       "</style>\n",
       "<table border=\"1\" class=\"dataframe\">\n",
       "  <thead>\n",
       "    <tr style=\"text-align: right;\">\n",
       "      <th></th>\n",
       "      <th>grp</th>\n",
       "      <th>rev</th>\n",
       "      <th>clients</th>\n",
       "      <th>users</th>\n",
       "      <th>cr</th>\n",
       "      <th>avg_check</th>\n",
       "      <th>arpu</th>\n",
       "    </tr>\n",
       "  </thead>\n",
       "  <tbody>\n",
       "    <tr>\n",
       "      <th>0</th>\n",
       "      <td>A</td>\n",
       "      <td>72820.0000</td>\n",
       "      <td>78</td>\n",
       "      <td>1538</td>\n",
       "      <td>0.050715</td>\n",
       "      <td>933.589744</td>\n",
       "      <td>47.347204</td>\n",
       "    </tr>\n",
       "    <tr>\n",
       "      <th>1</th>\n",
       "      <td>B</td>\n",
       "      <td>394974.0035</td>\n",
       "      <td>314</td>\n",
       "      <td>6803</td>\n",
       "      <td>0.046156</td>\n",
       "      <td>1257.878992</td>\n",
       "      <td>58.058798</td>\n",
       "    </tr>\n",
       "  </tbody>\n",
       "</table>\n",
       "</div>"
      ],
      "text/plain": [
       "  grp          rev  clients  users        cr    avg_check       arpu\n",
       "0   A   72820.0000       78   1538  0.050715   933.589744  47.347204\n",
       "1   B  394974.0035      314   6803  0.046156  1257.878992  58.058798"
      ]
     },
     "execution_count": 30,
     "metadata": {},
     "output_type": "execute_result"
    }
   ],
   "source": [
    "metrics\n",
    "# несмотря на снижение конверсии, больше зарабатываем на польз-лях из группы B"
   ]
  },
  {
   "cell_type": "code",
   "execution_count": 31,
   "id": "4a39ad45",
   "metadata": {},
   "outputs": [
    {
     "data": {
      "text/plain": [
       "1.3473573383545858"
      ]
     },
     "execution_count": 31,
     "metadata": {},
     "output_type": "execute_result"
    }
   ],
   "source": [
    "metrics.iloc[1]['avg_check'] / metrics.iloc[0]['avg_check']\n",
    "# ср.чек у польз-лей из группы В на 35% больше, чем у группы А "
   ]
  },
  {
   "cell_type": "code",
   "execution_count": 32,
   "id": "336d7c98",
   "metadata": {},
   "outputs": [
    {
     "data": {
      "text/plain": [
       "0.08989623733119256"
      ]
     },
     "execution_count": 32,
     "metadata": {},
     "output_type": "execute_result"
    }
   ],
   "source": [
    "1 - metrics.iloc[1]['cr'] / metrics.iloc[0]['cr']\n",
    "# конверсия у польз-лей из группы В на 9% ниже, чем у группы А"
   ]
  },
  {
   "cell_type": "code",
   "execution_count": 33,
   "id": "ceac4d9f",
   "metadata": {},
   "outputs": [],
   "source": [
    "# с помощью статистических методов проверим, являются ли данные различия стат.значимыми"
   ]
  },
  {
   "cell_type": "markdown",
   "id": "52ef96f2",
   "metadata": {},
   "source": [
    "## 5: проверка гипотез"
   ]
  },
  {
   "cell_type": "code",
   "execution_count": 34,
   "id": "5ba12343",
   "metadata": {},
   "outputs": [],
   "source": [
    "# Проверим распределения на нормальность"
   ]
  },
  {
   "cell_type": "code",
   "execution_count": 35,
   "id": "bdee78d6",
   "metadata": {},
   "outputs": [],
   "source": [
    "control = exp_results.query('grp == \"A\"').dropna()"
   ]
  },
  {
   "cell_type": "code",
   "execution_count": 36,
   "id": "fa58744d",
   "metadata": {},
   "outputs": [
    {
     "data": {
      "text/plain": [
       "<AxesSubplot:>"
      ]
     },
     "execution_count": 36,
     "metadata": {},
     "output_type": "execute_result"
    },
    {
     "data": {
      "image/png": "[encoded data removed]",
      "text/plain": [
       "<Figure size 432x288 with 1 Axes>"
      ]
     },
     "metadata": {
      "needs_background": "light"
     },
     "output_type": "display_data"
    }
   ],
   "source": [
    "# распределение суммы покупок в группе А\n",
    "control.rev.hist()"
   ]
  },
  {
   "cell_type": "code",
   "execution_count": 37,
   "id": "c07a047e",
   "metadata": {},
   "outputs": [],
   "source": [
    "test = exp_results.query('grp == \"B\"').dropna()"
   ]
  },
  {
   "cell_type": "code",
   "execution_count": 38,
   "id": "a771d129",
   "metadata": {},
   "outputs": [
    {
     "data": {
      "text/plain": [
       "<AxesSubplot:>"
      ]
     },
     "execution_count": 38,
     "metadata": {},
     "output_type": "execute_result"
    },
    {
     "data": {
      "image/png": "[encoded data removed]",
      "text/plain": [
       "<Figure size 432x288 with 1 Axes>"
      ]
     },
     "metadata": {
      "needs_background": "light"
     },
     "output_type": "display_data"
    }
   ],
   "source": [
    "# распределение суммы покупок в группе В\n",
    "test.rev.hist()"
   ]
  },
  {
   "cell_type": "code",
   "execution_count": 39,
   "id": "b657d9b3",
   "metadata": {},
   "outputs": [],
   "source": [
    "# на гистограммах оба распределения не выглядят нормальными"
   ]
  },
  {
   "cell_type": "code",
   "execution_count": 40,
   "id": "49e61037",
   "metadata": {},
   "outputs": [
    {
     "data": {
      "text/plain": [
       "<AxesSubplot:xlabel='grp', ylabel='rev'>"
      ]
     },
     "execution_count": 40,
     "metadata": {},
     "output_type": "execute_result"
    },
    {
     "data": {
      "image/png": "[encoded data removed]",
      "text/plain": [
       "<Figure size 432x288 with 1 Axes>"
      ]
     },
     "metadata": {
      "needs_background": "light"
     },
     "output_type": "display_data"
    }
   ],
   "source": [
    "# Boxplot по сумме покупок для каждой группы\n",
    "sns.boxplot(x=\"grp\", y=\"rev\", data=exp_results.query('rev > 0'))"
   ]
  },
  {
   "cell_type": "code",
   "execution_count": 41,
   "id": "2cdd0f1f",
   "metadata": {},
   "outputs": [],
   "source": [
    "# делать вывод только по графику не очень хорошо. Проверим распределения на нормальность с помощью статистического теста"
   ]
  },
  {
   "cell_type": "code",
   "execution_count": 42,
   "id": "ace2d6fc",
   "metadata": {},
   "outputs": [
    {
     "data": {
      "text/plain": [
       "(314, 3)"
      ]
     },
     "execution_count": 42,
     "metadata": {},
     "output_type": "execute_result"
    }
   ],
   "source": [
    "test.shape"
   ]
  },
  {
   "cell_type": "code",
   "execution_count": 43,
   "id": "7917cf16",
   "metadata": {},
   "outputs": [
    {
     "data": {
      "text/plain": [
       "(78, 3)"
      ]
     },
     "execution_count": 43,
     "metadata": {},
     "output_type": "execute_result"
    }
   ],
   "source": [
    "control.shape"
   ]
  },
  {
   "cell_type": "code",
   "execution_count": 44,
   "id": "14958cac",
   "metadata": {},
   "outputs": [],
   "source": [
    "# размер выборок небольшой, можем применить тест Шапиро-Уилка без сэмплирования"
   ]
  },
  {
   "cell_type": "code",
   "execution_count": 45,
   "id": "0a45f312",
   "metadata": {},
   "outputs": [
    {
     "data": {
      "text/plain": [
       "ShapiroResult(statistic=0.8547235727310181, pvalue=1.5437024585965894e-16)"
      ]
     },
     "execution_count": 45,
     "metadata": {},
     "output_type": "execute_result"
    }
   ],
   "source": [
    "ss.shapiro(test.rev)\n",
    "# H0 - распределение значимо не отличается от нормального.\n",
    "# Н1 - распределение значимо отличается от нормального.\n",
    "# Т.к. pvalue < 0.05, мы отклоняем Н0 => тест на нормальность НЕ пройден"
   ]
  },
  {
   "cell_type": "code",
   "execution_count": 46,
   "id": "7e2dea1a",
   "metadata": {},
   "outputs": [
    {
     "data": {
      "text/plain": [
       "ShapiroResult(statistic=0.7353236079216003, pvalue=1.4986822893803264e-10)"
      ]
     },
     "execution_count": 46,
     "metadata": {},
     "output_type": "execute_result"
    }
   ],
   "source": [
    "ss.shapiro(control.rev)\n",
    "# H0 - распределение значимо не отличается от нормального.\n",
    "# Н1 - распределение значимо отличается от нормального.\n",
    "# Т.к. pvalue < 0.05, мы отклоняем Н0 => тест на нормальность НЕ пройден"
   ]
  },
  {
   "cell_type": "markdown",
   "id": "6953eaef",
   "metadata": {},
   "source": [
    "Распределения не являются нормальными, кроме того у нас небольшое количество наблюдений в группе А (control)\n",
    "Поэтому для проверки равенства распределений используем непараметрический критерий Манна-Уитни:\n",
    "\n",
    "**Нулевая гипотеза (H0)**: распределения суммы покупок в тестовой и контрольной группе равны\n",
    "\n",
    "**Альтернативная гипотеза (H1)**: распределения суммы покупок в тестовой и контрольной группе не равны "
   ]
  },
  {
   "cell_type": "code",
   "execution_count": 47,
   "id": "588557b9",
   "metadata": {},
   "outputs": [
    {
     "data": {
      "text/plain": [
       "MannwhitneyuResult(statistic=9001.0, pvalue=0.0001255696915703461)"
      ]
     },
     "execution_count": 47,
     "metadata": {},
     "output_type": "execute_result"
    }
   ],
   "source": [
    "Mann_Whitney = ss.mannwhitneyu(test.rev, control.rev)\n",
    "Mann_Whitney"
   ]
  },
  {
   "cell_type": "code",
   "execution_count": 48,
   "id": "69c27041",
   "metadata": {},
   "outputs": [],
   "source": [
    "# p-value < 0.05 => отклоняем Н0 о том, что распределения суммы покупок в тестовой и контрольной группе равны"
   ]
  },
  {
   "cell_type": "markdown",
   "id": "d005ba55",
   "metadata": {},
   "source": [
    "Для понимания того, как именно различаются распределения, воспользуемся бутстрапом. Поскольку распределения не являются нормальными и имеют выбросы, будем сравнивать разность сумм покупок в двух группах по медиане.\n",
    "\n",
    "Сформулируем гипотезы для проверки различий в суммах покупок.\n",
    "\n",
    "**Нулевая гипотеза (H0)**: Разницы между суммами покупок в тестовой и контрольной группе нет\n",
    "\n",
    "**Альтернативная гипотеза (H1)**: Разница между суммами покупок в тестовой и контрольной группе есть"
   ]
  },
  {
   "cell_type": "code",
   "execution_count": 49,
   "id": "e9caf039",
   "metadata": {},
   "outputs": [],
   "source": [
    "# Объявим функцию, которая позволит проверять гипотезы с помощью бутстрапа\n",
    "def get_bootstrap(\n",
    "    data_column_1,  # числовые значения первой выборки\n",
    "    data_column_2,  # числовые значения второй выборки\n",
    "    boot_it=1000,  # количество бутстрэп-подвыборок\n",
    "    statistic=np.median,  # интересующая нас статистика\n",
    "    bootstrap_conf_level=0.95  # уровень значимости\n",
    "):\n",
    "    boot_len = max([len(data_column_1), len(data_column_2)])\n",
    "    boot_data = []\n",
    "    for i in tqdm(range(boot_it)):  # извлекаем подвыборки\n",
    "        samples_1 = data_column_1.sample(\n",
    "            boot_len, \n",
    "            replace=True  # параметр возвращения\n",
    "        ).values\n",
    "        \n",
    "        samples_2 = data_column_2.sample(\n",
    "            boot_len, \n",
    "            replace=True\n",
    "        ).values\n",
    "        \n",
    "        boot_data.append(statistic(samples_1 - samples_2))  # применяем статистику\n",
    "        \n",
    "    pd_boot_data = pd.DataFrame(boot_data)\n",
    "        \n",
    "    left_quant = (1 - bootstrap_conf_level) / 2\n",
    "    right_quant = 1 - (1 - bootstrap_conf_level) / 2\n",
    "    ci = pd_boot_data.quantile([left_quant, right_quant])\n",
    "        \n",
    "    p_1 = ss.norm.cdf(\n",
    "        x=0, \n",
    "        loc=np.mean(boot_data), \n",
    "        scale=np.std(boot_data)\n",
    "    )\n",
    "    p_2 = ss.norm.cdf(\n",
    "        x=0, \n",
    "        loc=-np.mean(boot_data), \n",
    "        scale=np.std(boot_data)\n",
    "    )\n",
    "    p_value = min(p_1, p_2) * 2\n",
    "        \n",
    "    # Визуализация\n",
    "    plt.hist(pd_boot_data[0], bins=50)\n",
    "    \n",
    "    plt.style.use('ggplot')\n",
    "    plt.vlines(ci, ymin=0, ymax=50, linestyle='--')\n",
    "    plt.xlabel('boot_data')\n",
    "    plt.ylabel('frequency')\n",
    "    plt.title(\"Histogram of boot_data\")\n",
    "    plt.show()\n",
    "    \n",
    "    return {\"boot_data\": boot_data, \n",
    "            \"ci\": ci, \n",
    "            \"p_value\": p_value}"
   ]
  },
  {
   "cell_type": "code",
   "execution_count": 70,
   "id": "ff6179ad",
   "metadata": {},
   "outputs": [
    {
     "data": {
      "application/vnd.jupyter.widget-view+json": {
       "model_id": "fcc87d49f3da4febadd194e2228f869c",
       "version_major": 2,
       "version_minor": 0
      },
      "text/plain": [
       "  0%|          | 0/2000 [00:00<?, ?it/s]"
      ]
     },
     "metadata": {},
     "output_type": "display_data"
    },
    {
     "data": {
      "image/png": "[encoded data removed]",
      "text/plain": [
       "<Figure size 432x288 with 1 Axes>"
      ]
     },
     "metadata": {},
     "output_type": "display_data"
    }
   ],
   "source": [
    "# применяем бутстрап (с np.median) на исходных данных\n",
    "bootstrap_median = get_bootstrap(test.rev, control.rev, boot_it=2000)"
   ]
  },
  {
   "cell_type": "code",
   "execution_count": 71,
   "id": "24fb0c96",
   "metadata": {},
   "outputs": [
    {
     "data": {
      "text/plain": [
       "2.098299546045922e-05"
      ]
     },
     "execution_count": 71,
     "metadata": {},
     "output_type": "execute_result"
    }
   ],
   "source": [
    "bootstrap_median['p_value']"
   ]
  },
  {
   "cell_type": "code",
   "execution_count": 72,
   "id": "ca5024e7",
   "metadata": {},
   "outputs": [
    {
     "data": {
      "text/html": [
       "<div>\n",
       "<style scoped>\n",
       "    .dataframe tbody tr th:only-of-type {\n",
       "        vertical-align: middle;\n",
       "    }\n",
       "\n",
       "    .dataframe tbody tr th {\n",
       "        vertical-align: top;\n",
       "    }\n",
       "\n",
       "    .dataframe thead th {\n",
       "        text-align: right;\n",
       "    }\n",
       "</style>\n",
       "<table border=\"1\" class=\"dataframe\">\n",
       "  <thead>\n",
       "    <tr style=\"text-align: right;\">\n",
       "      <th></th>\n",
       "      <th>0</th>\n",
       "    </tr>\n",
       "  </thead>\n",
       "  <tbody>\n",
       "    <tr>\n",
       "      <th>0.025</th>\n",
       "      <td>250.0</td>\n",
       "    </tr>\n",
       "    <tr>\n",
       "      <th>0.975</th>\n",
       "      <td>580.0</td>\n",
       "    </tr>\n",
       "  </tbody>\n",
       "</table>\n",
       "</div>"
      ],
      "text/plain": [
       "           0\n",
       "0.025  250.0\n",
       "0.975  580.0"
      ]
     },
     "execution_count": 72,
     "metadata": {},
     "output_type": "execute_result"
    }
   ],
   "source": [
    "bootstrap_median['ci']"
   ]
  },
  {
   "cell_type": "code",
   "execution_count": 53,
   "id": "0b0c4d44",
   "metadata": {},
   "outputs": [],
   "source": [
    "# p-value < 0.05, доверительный интервал не включает в себя 0 => принимаем Н1 о том, что разница между средним чеком \n",
    "# в тестовой и контрольной группе есть"
   ]
  },
  {
   "cell_type": "markdown",
   "id": "a402135d",
   "metadata": {},
   "source": [
    "Теперь сформулируем гипотезы для проверки конверсии.\n",
    "Поскольку мы имеем две категориальные переменные (купил / не купил, А / В), нужен хи-квадрат\n",
    "\n",
    "**Нулевая гипотеза (H0)**: взаимосвязи между переменными нет\n",
    "\n",
    "**Альтернативная гипотеза (H1)**: взаимосвязь есть"
   ]
  },
  {
   "cell_type": "code",
   "execution_count": 54,
   "id": "1e18f5f1",
   "metadata": {},
   "outputs": [],
   "source": [
    "# добавим столбец \"купил / не купил\"\n",
    "exp_results['buy'] = exp_results.rev > 0"
   ]
  },
  {
   "cell_type": "code",
   "execution_count": 55,
   "id": "4359f91a",
   "metadata": {},
   "outputs": [
    {
     "data": {
      "text/html": [
       "<div>\n",
       "<style scoped>\n",
       "    .dataframe tbody tr th:only-of-type {\n",
       "        vertical-align: middle;\n",
       "    }\n",
       "\n",
       "    .dataframe tbody tr th {\n",
       "        vertical-align: top;\n",
       "    }\n",
       "\n",
       "    .dataframe thead th {\n",
       "        text-align: right;\n",
       "    }\n",
       "</style>\n",
       "<table border=\"1\" class=\"dataframe\">\n",
       "  <thead>\n",
       "    <tr style=\"text-align: right;\">\n",
       "      <th></th>\n",
       "      <th>id</th>\n",
       "      <th>rev</th>\n",
       "      <th>grp</th>\n",
       "      <th>buy</th>\n",
       "    </tr>\n",
       "  </thead>\n",
       "  <tbody>\n",
       "    <tr>\n",
       "      <th>8336</th>\n",
       "      <td>1794344</td>\n",
       "      <td>NaN</td>\n",
       "      <td>B</td>\n",
       "      <td>False</td>\n",
       "    </tr>\n",
       "    <tr>\n",
       "      <th>8337</th>\n",
       "      <td>296883</td>\n",
       "      <td>NaN</td>\n",
       "      <td>B</td>\n",
       "      <td>False</td>\n",
       "    </tr>\n",
       "    <tr>\n",
       "      <th>8338</th>\n",
       "      <td>3598448</td>\n",
       "      <td>NaN</td>\n",
       "      <td>B</td>\n",
       "      <td>False</td>\n",
       "    </tr>\n",
       "    <tr>\n",
       "      <th>8339</th>\n",
       "      <td>3610547</td>\n",
       "      <td>290.0</td>\n",
       "      <td>B</td>\n",
       "      <td>True</td>\n",
       "    </tr>\n",
       "    <tr>\n",
       "      <th>8340</th>\n",
       "      <td>205705</td>\n",
       "      <td>NaN</td>\n",
       "      <td>B</td>\n",
       "      <td>False</td>\n",
       "    </tr>\n",
       "  </tbody>\n",
       "</table>\n",
       "</div>"
      ],
      "text/plain": [
       "           id    rev grp    buy\n",
       "8336  1794344    NaN   B  False\n",
       "8337   296883    NaN   B  False\n",
       "8338  3598448    NaN   B  False\n",
       "8339  3610547  290.0   B   True\n",
       "8340   205705    NaN   B  False"
      ]
     },
     "execution_count": 55,
     "metadata": {},
     "output_type": "execute_result"
    }
   ],
   "source": [
    "exp_results.tail()"
   ]
  },
  {
   "cell_type": "code",
   "execution_count": 56,
   "id": "64e14db4",
   "metadata": {},
   "outputs": [
    {
     "data": {
      "text/html": [
       "<div>\n",
       "<style scoped>\n",
       "    .dataframe tbody tr th:only-of-type {\n",
       "        vertical-align: middle;\n",
       "    }\n",
       "\n",
       "    .dataframe tbody tr th {\n",
       "        vertical-align: top;\n",
       "    }\n",
       "\n",
       "    .dataframe thead th {\n",
       "        text-align: right;\n",
       "    }\n",
       "</style>\n",
       "<table border=\"1\" class=\"dataframe\">\n",
       "  <thead>\n",
       "    <tr style=\"text-align: right;\">\n",
       "      <th>buy</th>\n",
       "      <th>False</th>\n",
       "      <th>True</th>\n",
       "    </tr>\n",
       "    <tr>\n",
       "      <th>grp</th>\n",
       "      <th></th>\n",
       "      <th></th>\n",
       "    </tr>\n",
       "  </thead>\n",
       "  <tbody>\n",
       "    <tr>\n",
       "      <th>A</th>\n",
       "      <td>1460</td>\n",
       "      <td>78</td>\n",
       "    </tr>\n",
       "    <tr>\n",
       "      <th>B</th>\n",
       "      <td>6489</td>\n",
       "      <td>314</td>\n",
       "    </tr>\n",
       "  </tbody>\n",
       "</table>\n",
       "</div>"
      ],
      "text/plain": [
       "buy  False  True \n",
       "grp              \n",
       "A     1460     78\n",
       "B     6489    314"
      ]
     },
     "execution_count": 56,
     "metadata": {},
     "output_type": "execute_result"
    }
   ],
   "source": [
    "pd.crosstab(exp_results.grp, exp_results.buy)"
   ]
  },
  {
   "cell_type": "code",
   "execution_count": 57,
   "id": "aa0b6d03",
   "metadata": {},
   "outputs": [],
   "source": [
    "# применяем хи-квадрат на наших данных\n",
    "stat, p, dof, expected = ss.chi2_contingency(pd.crosstab(exp_results.grp, exp_results.buy))"
   ]
  },
  {
   "cell_type": "code",
   "execution_count": 58,
   "id": "2afc2a28",
   "metadata": {},
   "outputs": [
    {
     "data": {
      "text/plain": [
       "(0.48480826522557896, 0.48625240457231045)"
      ]
     },
     "execution_count": 58,
     "metadata": {},
     "output_type": "execute_result"
    }
   ],
   "source": [
    "stat, p"
   ]
  },
  {
   "cell_type": "code",
   "execution_count": 59,
   "id": "b8b147e9",
   "metadata": {},
   "outputs": [
    {
     "name": "stdout",
     "output_type": "stream",
     "text": [
      "Не отклоняем H0\n"
     ]
    }
   ],
   "source": [
    "prob = 0.95\n",
    "critical = ss.chi2.ppf(prob, dof)\n",
    "if abs(stat) >= critical:\n",
    "    print('Отклоняем H0')\n",
    "else:\n",
    "    print('Не отклоняем H0')"
   ]
  },
  {
   "cell_type": "code",
   "execution_count": 60,
   "id": "b808dded",
   "metadata": {},
   "outputs": [],
   "source": [
    "# принимаем Н0 о том, что взаимосвязи между переменными нет"
   ]
  },
  {
   "cell_type": "markdown",
   "id": "921b5499",
   "metadata": {},
   "source": [
    "## 6: выводы"
   ]
  },
  {
   "cell_type": "markdown",
   "id": "93770eb9",
   "metadata": {},
   "source": [
    "1. ср.чек у польз-лей из группы В (тест) выше, чем у польз-лей из группы А (контроль). В наших выборках ср.чек в группе В на 35% выше, чем в группе А\n",
    "2. конверсия в покупку не показала стат.значимых различий между группами\n",
    "3. если мы в достаточной степени уверены в репрезентативности нашей выборки, а также исключили влияние других факторов на результаты эксперимента, то можем признать эксперимент удачным и запускать новую механику оплаты на всех пользователей\n",
    "\n",
    "Также следует отметить, что есть 149 польз-лей, которые не заходили на платформу, но у которых есть покупки. Возможно, при сборе данных или логировании польз-лей была допущена ошибка. Необходимо дополнительно проверить причины возникновения ошибки."
   ]
  },
  {
   "cell_type": "markdown",
   "id": "ea8f12fa",
   "metadata": {},
   "source": [
    "## 7: пишем функцию для автоматической загрузки доп.файла"
   ]
  },
  {
   "cell_type": "code",
   "execution_count": 63,
   "id": "552ab5ac",
   "metadata": {},
   "outputs": [],
   "source": [
    "def add_data(groups, group_add_public_key, active_studs, checks):\n",
    "    '''Принимает датафреймы:\n",
    "    groups - принадлежность пользователя к контрольной или экспериментальной группе,\n",
    "    active_studs - пользователи, которые зашли на платформу в дни проведения эксперимента,\n",
    "    checks - оплаты пользователей в дни проведения эксперимента,\n",
    "    group_add_public_key - ссылка для скачивания дополнительного файла с пользователями.\n",
    "    Возвращает таблицу с пересчитанными метриками с учетом данных из доп. файла'''\n",
    "    \n",
    "    # считываем данные из доп.файла\n",
    "    group_add = get_data(group_add_public_key, sep=',') \n",
    "    \n",
    "    # переименуем колонки с id пользователей идентично для всех файлов\n",
    "    group_add.rename(columns={group_add.columns[0]: 'id', group_add.columns[1]: 'grp'}, inplace=True)\n",
    "    active_studs.rename(columns={'student_id': 'id'}, inplace=True)\n",
    "    checks.rename(columns={'student_id': 'id'}, inplace=True)\n",
    "\n",
    "    # добавляем доп.данные к уже имеющимся данным по группам польз-лей\n",
    "    groups_full = pd.concat([groups, group_add], axis=0)\n",
    "    groups_full.drop_duplicates(subset='id', inplace=True)\n",
    "    \n",
    "    # формируем итоговый ДФ с результатами эксперимента\n",
    "    exp_results = active_studs \\\n",
    "        .merge(checks, how='left', on='id') \\\n",
    "        .merge(groups_full, how='inner', on='id')\n",
    "    exp_results['buy'] = exp_results.rev > 0\n",
    "    \n",
    "    # пересчитываем метрики\n",
    "    metrics = exp_results \\\n",
    "        .groupby('grp', as_index=False) \\\n",
    "        .agg({'rev': 'sum'})\n",
    "    \n",
    "    clients = exp_results \\\n",
    "        .query('rev > 0') \\\n",
    "        .groupby('grp', as_index=False) \\\n",
    "        .agg({'id': 'count'}) \\\n",
    "        .rename(columns={'id': 'clients'})\n",
    "    \n",
    "    users = exp_results \\\n",
    "        .groupby('grp', as_index=False) \\\n",
    "        .agg({'id': 'count'}) \\\n",
    "        .rename(columns={'id': 'users'})\n",
    "    metrics = metrics.merge(clients).merge(users)\n",
    "    \n",
    "    metrics['cr'] = metrics.clients / metrics.users\n",
    "    metrics['avg_check'] = metrics.rev / metrics.clients\n",
    "    metrics['arpu'] = metrics.rev / metrics.users\n",
    "    \n",
    "    return metrics"
   ]
  },
  {
   "cell_type": "code",
   "execution_count": 64,
   "id": "34a1ad54",
   "metadata": {},
   "outputs": [],
   "source": [
    "metrics_new = add_data(groups_full, group_add_public_key, active_studs, checks)"
   ]
  },
  {
   "cell_type": "code",
   "execution_count": 65,
   "id": "d4215f1b",
   "metadata": {},
   "outputs": [
    {
     "data": {
      "text/html": [
       "<div>\n",
       "<style scoped>\n",
       "    .dataframe tbody tr th:only-of-type {\n",
       "        vertical-align: middle;\n",
       "    }\n",
       "\n",
       "    .dataframe tbody tr th {\n",
       "        vertical-align: top;\n",
       "    }\n",
       "\n",
       "    .dataframe thead th {\n",
       "        text-align: right;\n",
       "    }\n",
       "</style>\n",
       "<table border=\"1\" class=\"dataframe\">\n",
       "  <thead>\n",
       "    <tr style=\"text-align: right;\">\n",
       "      <th></th>\n",
       "      <th>grp</th>\n",
       "      <th>rev</th>\n",
       "      <th>clients</th>\n",
       "      <th>users</th>\n",
       "      <th>cr</th>\n",
       "      <th>avg_check</th>\n",
       "      <th>arpu</th>\n",
       "    </tr>\n",
       "  </thead>\n",
       "  <tbody>\n",
       "    <tr>\n",
       "      <th>0</th>\n",
       "      <td>A</td>\n",
       "      <td>72820.0000</td>\n",
       "      <td>78</td>\n",
       "      <td>1538</td>\n",
       "      <td>0.050715</td>\n",
       "      <td>933.589744</td>\n",
       "      <td>47.347204</td>\n",
       "    </tr>\n",
       "    <tr>\n",
       "      <th>1</th>\n",
       "      <td>B</td>\n",
       "      <td>394974.0035</td>\n",
       "      <td>314</td>\n",
       "      <td>6803</td>\n",
       "      <td>0.046156</td>\n",
       "      <td>1257.878992</td>\n",
       "      <td>58.058798</td>\n",
       "    </tr>\n",
       "  </tbody>\n",
       "</table>\n",
       "</div>"
      ],
      "text/plain": [
       "  grp          rev  clients  users        cr    avg_check       arpu\n",
       "0   A   72820.0000       78   1538  0.050715   933.589744  47.347204\n",
       "1   B  394974.0035      314   6803  0.046156  1257.878992  58.058798"
      ]
     },
     "execution_count": 65,
     "metadata": {},
     "output_type": "execute_result"
    }
   ],
   "source": [
    "metrics_new"
   ]
  },
  {
   "cell_type": "code",
   "execution_count": 66,
   "id": "b25d097c",
   "metadata": {},
   "outputs": [
    {
     "data": {
      "text/html": [
       "<div>\n",
       "<style scoped>\n",
       "    .dataframe tbody tr th:only-of-type {\n",
       "        vertical-align: middle;\n",
       "    }\n",
       "\n",
       "    .dataframe tbody tr th {\n",
       "        vertical-align: top;\n",
       "    }\n",
       "\n",
       "    .dataframe thead th {\n",
       "        text-align: right;\n",
       "    }\n",
       "</style>\n",
       "<table border=\"1\" class=\"dataframe\">\n",
       "  <thead>\n",
       "    <tr style=\"text-align: right;\">\n",
       "      <th></th>\n",
       "      <th>id</th>\n",
       "      <th>rev</th>\n",
       "      <th>grp</th>\n",
       "      <th>buy</th>\n",
       "    </tr>\n",
       "  </thead>\n",
       "  <tbody>\n",
       "    <tr>\n",
       "      <th>0</th>\n",
       "      <td>581585</td>\n",
       "      <td>NaN</td>\n",
       "      <td>A</td>\n",
       "      <td>False</td>\n",
       "    </tr>\n",
       "    <tr>\n",
       "      <th>1</th>\n",
       "      <td>5723133</td>\n",
       "      <td>NaN</td>\n",
       "      <td>A</td>\n",
       "      <td>False</td>\n",
       "    </tr>\n",
       "    <tr>\n",
       "      <th>2</th>\n",
       "      <td>3276743</td>\n",
       "      <td>NaN</td>\n",
       "      <td>B</td>\n",
       "      <td>False</td>\n",
       "    </tr>\n",
       "    <tr>\n",
       "      <th>3</th>\n",
       "      <td>4238589</td>\n",
       "      <td>NaN</td>\n",
       "      <td>A</td>\n",
       "      <td>False</td>\n",
       "    </tr>\n",
       "    <tr>\n",
       "      <th>4</th>\n",
       "      <td>4475369</td>\n",
       "      <td>NaN</td>\n",
       "      <td>B</td>\n",
       "      <td>False</td>\n",
       "    </tr>\n",
       "  </tbody>\n",
       "</table>\n",
       "</div>"
      ],
      "text/plain": [
       "        id  rev grp    buy\n",
       "0   581585  NaN   A  False\n",
       "1  5723133  NaN   A  False\n",
       "2  3276743  NaN   B  False\n",
       "3  4238589  NaN   A  False\n",
       "4  4475369  NaN   B  False"
      ]
     },
     "execution_count": 66,
     "metadata": {},
     "output_type": "execute_result"
    }
   ],
   "source": [
    "exp_results.head()"
   ]
  },
  {
   "cell_type": "markdown",
   "id": "d0c6e8fe",
   "metadata": {},
   "source": [
    "## 7: пишем функцию для построения графиков"
   ]
  },
  {
   "cell_type": "code",
   "execution_count": 67,
   "id": "7cb30d6c",
   "metadata": {},
   "outputs": [],
   "source": [
    "def graphics(exp_results, metrics):\n",
    "    '''Принимает датафреймы с результатами эксперимента и метриками.\n",
    "    Возвращает графики распределения покупок в группах, а также гистограммы для сравнения \n",
    "    ср.чека, конверсии в покупку и ARPU по группам'''\n",
    "    \n",
    "    # графики распределения покупок по группам\n",
    "    fig, axes = plt.subplots(nrows=1, ncols=2, figsize=(12, 4))\n",
    "\n",
    "    sns.histplot(exp_results.query('grp == \"A\" & rev > 0').rev, ax=axes[0], color='green')\n",
    "    sns.histplot(exp_results.query('grp == \"B\" & rev > 0').rev, ax=axes[1], color='purple')\n",
    "    axes[0].set(title='Покупки в группе А', xlabel='checks')\n",
    "    axes[1].set(title='Покупки в группе B', xlabel='checks')\n",
    "    \n",
    "    # графики метрик по группам\n",
    "    fig, axes = plt.subplots(nrows=1, ncols=3, figsize=(12, 4))\n",
    "    sns.barplot(x='grp', y='avg_check', data=metrics, ax=axes[0], palette=\"Paired\")\n",
    "    axes[0].set(title='Средний чек', xlabel='groups')\n",
    "    plt.tight_layout(w_pad=2)\n",
    "\n",
    "    sns.barplot(x='grp', y='cr', data=metrics, ax=axes[1], palette=\"Paired\")\n",
    "    axes[1].set(title='Конверсия в покупку', xlabel='groups')\n",
    "\n",
    "    sns.barplot(x='grp', y='arpu', data=metrics, ax=axes[2], palette=\"Paired\")\n",
    "    axes[2].set(title='ARPU', xlabel='groups')\n",
    "    \n",
    "    plt.show()"
   ]
  },
  {
   "cell_type": "code",
   "execution_count": 68,
   "id": "f7d7e512",
   "metadata": {},
   "outputs": [
    {
     "data": {
      "image/png": "[encoded data removed]",
      "text/plain": [
       "<Figure size 864x288 with 2 Axes>"
      ]
     },
     "metadata": {},
     "output_type": "display_data"
    },
    {
     "data": {
      "image/png": "[encoded data removed]",
      "text/plain": [
       "<Figure size 864x288 with 3 Axes>"
      ]
     },
     "metadata": {},
     "output_type": "display_data"
    }
   ],
   "source": [
    "graphics(exp_results, metrics)"
   ]
  },
  {
   "cell_type": "code",
   "execution_count": null,
   "id": "51955f75",
   "metadata": {},
   "outputs": [],
   "source": []
  }
 ],
 "metadata": {
  "kernelspec": {
   "display_name": "Python 3",
   "language": "python",
   "name": "python3"
  },
  "language_info": {
   "codemirror_mode": {
    "name": "ipython",
    "version": 3
   },
   "file_extension": ".py",
   "mimetype": "text/x-python",
   "name": "python",
   "nbconvert_exporter": "python",
   "pygments_lexer": "ipython3",
   "version": "3.8.8"
  }
 },
 "nbformat": 4,
 "nbformat_minor": 5
}
